{
 "cells": [
  {
   "cell_type": "markdown",
   "metadata": {
    "slideshow": {
     "slide_type": "slide"
    }
   },
   "source": [
    "EXTRACT"
   ]
  },
  {
   "cell_type": "code",
   "execution_count": null,
   "metadata": {
    "pycharm": {
     "name": "#%%\n"
    },
    "slideshow": {
     "slide_type": "skip"
    }
   },
   "outputs": [],
   "source": [
    "import collections.abc as collections_abc\n",
    "import dataclasses\n",
    "import itertools\n",
    "import typing\n",
    "\n",
    "import faker\n",
    "import psycopg2\n",
    "import psycopg2.extras as psycopg2_extras\n",
    "\n",
    "import settings\n",
    "import utils.profilers as profiler_utils\n",
    "import utils.psycopg2 as psycopg2_utils"
   ]
  },
  {
   "cell_type": "code",
   "execution_count": null,
   "metadata": {
    "slideshow": {
     "slide_type": "slide"
    }
   },
   "outputs": [],
   "source": [
    "SIZE = 200_000"
   ]
  },
  {
   "cell_type": "code",
   "execution_count": null,
   "metadata": {
    "slideshow": {
     "slide_type": "fragment"
    }
   },
   "outputs": [],
   "source": [
    "def create_tables(connection: psycopg2_utils.Connection) -> None:\n",
    "    with connection.cursor() as cursor:\n",
    "        cursor.execute(\n",
    "            \"\"\"\n",
    "            CREATE TABLE IF NOT EXISTS users(\n",
    "                id serial primary key,\n",
    "                name text NOT NULL,\n",
    "                description text NOT NULL\n",
    "            )\n",
    "            \"\"\"\n",
    "        )\n",
    "    connection.commit()"
   ]
  },
  {
   "cell_type": "code",
   "execution_count": null,
   "metadata": {
    "slideshow": {
     "slide_type": "fragment"
    }
   },
   "outputs": [],
   "source": [
    "connection = psycopg2.connect(**settings.POSTGRESQL_DATABASE_SETTINGS)"
   ]
  },
  {
   "cell_type": "code",
   "execution_count": null,
   "metadata": {
    "slideshow": {
     "slide_type": "fragment"
    }
   },
   "outputs": [],
   "source": [
    "create_tables(connection)"
   ]
  },
  {
   "cell_type": "code",
   "execution_count": null,
   "metadata": {
    "slideshow": {
     "slide_type": "subslide"
    }
   },
   "outputs": [],
   "source": [
    "@dataclasses.dataclass\n",
    "class LoadUser:\n",
    "    name: str\n",
    "    description: str"
   ]
  },
  {
   "cell_type": "code",
   "execution_count": null,
   "metadata": {
    "slideshow": {
     "slide_type": "fragment"
    }
   },
   "outputs": [],
   "source": [
    "def gen_fake_users() -> collections_abc.Iterator[LoadUser]:\n",
    "    fake = faker.Faker()\n",
    "    return (LoadUser(name=fake.name(), description=fake.text()) for _ in range(SIZE))"
   ]
  },
  {
   "cell_type": "code",
   "execution_count": null,
   "metadata": {
    "slideshow": {
     "slide_type": "fragment"
    }
   },
   "outputs": [],
   "source": [
    "def load_data(connection: psycopg2_utils.Connection) -> None:\n",
    "    loader = psycopg2_utils.Loader(connection, chunk_size=500)\n",
    "    users = gen_fake_users()\n",
    "    loader.load_from_iterable(users, LoadUser, \"users\")"
   ]
  },
  {
   "cell_type": "code",
   "execution_count": null,
   "metadata": {
    "slideshow": {
     "slide_type": "fragment"
    }
   },
   "outputs": [],
   "source": [
    "load_data(connection)"
   ]
  },
  {
   "cell_type": "code",
   "execution_count": null,
   "metadata": {
    "slideshow": {
     "slide_type": "subslide"
    }
   },
   "outputs": [],
   "source": [
    "@dataclasses.dataclass\n",
    "class ExtractUser:\n",
    "    id: int\n",
    "    name: str\n",
    "    description: str"
   ]
  },
  {
   "cell_type": "code",
   "execution_count": null,
   "metadata": {
    "slideshow": {
     "slide_type": "fragment"
    }
   },
   "outputs": [],
   "source": [
    "@profiler_utils.profile\n",
    "def run_through_iterable(items: collections_abc.Iterable[ExtractUser]) -> None:\n",
    "    for _ in items:\n",
    "        ..."
   ]
  },
  {
   "cell_type": "code",
   "execution_count": null,
   "metadata": {
    "slideshow": {
     "slide_type": "fragment"
    }
   },
   "outputs": [],
   "source": [
    "ExecuteType = collections_abc.Callable[[psycopg2_utils.Connection], collections_abc.Iterable[ExtractUser]]\n",
    "\n",
    "def run_execution(func: ExecuteType, connection: psycopg2_utils.Connection) -> None:\n",
    "    iterable = func(connection)\n",
    "    run_through_iterable(iterable)"
   ]
  },
  {
   "cell_type": "code",
   "execution_count": null,
   "metadata": {
    "slideshow": {
     "slide_type": "slide"
    }
   },
   "outputs": [],
   "source": [
    "@profiler_utils.profile\n",
    "def fetch_all_list(connection: psycopg2_utils.Connection) -> list[ExtractUser]:\n",
    "    with connection.cursor(cursor_factory=psycopg2_extras.DictCursor) as cursor:\n",
    "        cursor.execute(\"SELECT id, name, description FROM users ORDER BY id\")\n",
    "        users = cursor.fetchall()\n",
    "        return [ExtractUser(**user) for user in users]"
   ]
  },
  {
   "cell_type": "code",
   "execution_count": null,
   "metadata": {
    "slideshow": {
     "slide_type": "fragment"
    }
   },
   "outputs": [],
   "source": [
    "@profiler_utils.profile\n",
    "def fetch_all_gen_expression(connection: psycopg2_utils.Connection) -> collections_abc.Iterator[ExtractUser]:\n",
    "    with connection.cursor(cursor_factory=psycopg2_extras.DictCursor) as cursor:\n",
    "        cursor.execute(\"SELECT id, name, description FROM users ORDER BY id\")\n",
    "        users = cursor.fetchall()\n",
    "        return (ExtractUser(**user) for user in users)"
   ]
  },
  {
   "cell_type": "code",
   "execution_count": null,
   "metadata": {
    "slideshow": {
     "slide_type": "fragment"
    }
   },
   "outputs": [],
   "source": [
    "@profiler_utils.profile\n",
    "def fetch_all_yield(connection: psycopg2_utils.Connection) -> collections_abc.Iterator[ExtractUser]:\n",
    "    with connection.cursor(cursor_factory=psycopg2_extras.DictCursor) as cursor:\n",
    "        cursor.execute(\"SELECT id, name, description FROM users ORDER BY id\")\n",
    "        users = cursor.fetchall()\n",
    "        yield from (ExtractUser(**user) for user in users)"
   ]
  },
  {
   "cell_type": "code",
   "execution_count": null,
   "metadata": {
    "slideshow": {
     "slide_type": "fragment"
    }
   },
   "outputs": [],
   "source": [
    "@profiler_utils.profile\n",
    "def fetch_one_yield(connection: psycopg2_utils.Connection) -> collections_abc.Iterator[ExtractUser]:\n",
    "    with connection.cursor(cursor_factory=psycopg2_extras.DictCursor) as cursor:\n",
    "        cursor.execute(\"SELECT id, name, description FROM users ORDER BY id\")\n",
    "        while user := cursor.fetchone():\n",
    "            yield ExtractUser(**user)"
   ]
  },
  {
   "cell_type": "code",
   "execution_count": null,
   "metadata": {
    "slideshow": {
     "slide_type": "subslide"
    }
   },
   "outputs": [],
   "source": [
    "run_execution(fetch_all_list, connection)"
   ]
  },
  {
   "cell_type": "code",
   "execution_count": null,
   "metadata": {
    "scrolled": true,
    "slideshow": {
     "slide_type": "fragment"
    }
   },
   "outputs": [],
   "source": [
    "run_execution(fetch_all_gen_expression, connection)"
   ]
  },
  {
   "cell_type": "code",
   "execution_count": null,
   "metadata": {
    "slideshow": {
     "slide_type": "fragment"
    }
   },
   "outputs": [],
   "source": [
    "run_execution(fetch_all_yield, connection)"
   ]
  },
  {
   "cell_type": "code",
   "execution_count": null,
   "metadata": {
    "slideshow": {
     "slide_type": "fragment"
    }
   },
   "outputs": [],
   "source": [
    "run_execution(fetch_one_yield, connection)"
   ]
  },
  {
   "cell_type": "code",
   "execution_count": null,
   "metadata": {
    "slideshow": {
     "slide_type": "slide"
    }
   },
   "outputs": [],
   "source": [
    "CHUNK_SIZE = 500"
   ]
  },
  {
   "cell_type": "code",
   "execution_count": null,
   "metadata": {
    "slideshow": {
     "slide_type": "fragment"
    }
   },
   "outputs": [],
   "source": [
    "@profiler_utils.profile\n",
    "def fetch_many_yield(connection: psycopg2_utils.Connection) -> collections_abc.Iterator[ExtractUser]:\n",
    "    with connection.cursor(cursor_factory=psycopg2_extras.DictCursor) as cursor:\n",
    "        cursor.execute(\"SELECT id, name, description FROM users ORDER BY id\")\n",
    "        while users_chunk := cursor.fetchmany(size=CHUNK_SIZE):\n",
    "            yield from (ExtractUser(**user) for user in users_chunk)"
   ]
  },
  {
   "cell_type": "code",
   "execution_count": null,
   "metadata": {
    "slideshow": {
     "slide_type": "fragment"
    }
   },
   "outputs": [],
   "source": [
    "@profiler_utils.profile\n",
    "def fetch_limit_offset(connection: psycopg2_utils.Connection) -> collections_abc.Iterator[ExtractUser]:\n",
    "    stmt = \"SELECT id, name, description FROM users ORDER BY id LIMIT %s OFFSET %s\"\n",
    "    with connection.cursor(cursor_factory=psycopg2_extras.DictCursor) as cursor:\n",
    "        for i in itertools.count():\n",
    "            data = (CHUNK_SIZE, i * CHUNK_SIZE)\n",
    "            cursor.execute(stmt, data)\n",
    "            if not cursor.rowcount:\n",
    "                break\n",
    "            yield from (ExtractUser(**user) for user in cursor.fetchall())"
   ]
  },
  {
   "cell_type": "markdown",
   "metadata": {
    "slideshow": {
     "slide_type": "subslide"
    }
   },
   "source": [
    "SELECT id, name, description FROM users WHERE id > %s ORDER BY id LIMIT %s"
   ]
  },
  {
   "cell_type": "code",
   "execution_count": null,
   "metadata": {
    "slideshow": {
     "slide_type": "fragment"
    }
   },
   "outputs": [],
   "source": [
    "@profiler_utils.profile\n",
    "def fetch_last_id(connection: psycopg2_utils.Connection) -> collections_abc.Iterator[ExtractUser]:\n",
    "    last_id = None\n",
    "    with connection.cursor(cursor_factory=psycopg2_extras.DictCursor) as cursor:\n",
    "        while True:\n",
    "            stmt = \"SELECT id, name, description FROM users\"\n",
    "            data: list[typing.Any] = []\n",
    "            if last_id is not None:\n",
    "                stmt += \" WHERE id > %s\"\n",
    "                data.append(last_id)\n",
    "\n",
    "            stmt += \" ORDER BY id LIMIT %s\"\n",
    "            data.append(CHUNK_SIZE)\n",
    "\n",
    "            cursor.execute(stmt, data)\n",
    "            if not cursor.rowcount:\n",
    "                break\n",
    "            for user in cursor.fetchall():\n",
    "                yield ExtractUser(**user)\n",
    "            last_id = user[\"id\"]"
   ]
  },
  {
   "cell_type": "code",
   "execution_count": null,
   "metadata": {
    "slideshow": {
     "slide_type": "subslide"
    }
   },
   "outputs": [],
   "source": [
    "run_execution(fetch_one_yield, connection)"
   ]
  },
  {
   "cell_type": "code",
   "execution_count": null,
   "metadata": {
    "slideshow": {
     "slide_type": "fragment"
    }
   },
   "outputs": [],
   "source": [
    "run_execution(fetch_many_yield, connection)"
   ]
  },
  {
   "cell_type": "code",
   "execution_count": null,
   "metadata": {
    "slideshow": {
     "slide_type": "fragment"
    }
   },
   "outputs": [],
   "source": [
    "run_execution(fetch_limit_offset, connection)"
   ]
  },
  {
   "cell_type": "code",
   "execution_count": null,
   "metadata": {
    "slideshow": {
     "slide_type": "fragment"
    }
   },
   "outputs": [],
   "source": [
    "run_execution(fetch_last_id, connection)"
   ]
  },
  {
   "cell_type": "code",
   "execution_count": null,
   "metadata": {
    "pycharm": {
     "name": "#%%\n"
    },
    "slideshow": {
     "slide_type": "skip"
    }
   },
   "outputs": [],
   "source": [
    "def drop_tables(connection: psycopg2_utils.Connection) -> None:\n",
    "    with connection.cursor() as cursor:\n",
    "        cursor.execute(\"DROP TABLE users\")\n",
    "    connection.commit()\n",
    "\n",
    "drop_tables(connection)"
   ]
  }
 ],
 "metadata": {
  "celltoolbar": "Slideshow",
  "kernelspec": {
   "display_name": "Python 3 (ipykernel)",
   "language": "python",
   "name": "python3"
  },
  "language_info": {
   "codemirror_mode": {
    "name": "ipython",
    "version": 3
   },
   "file_extension": ".py",
   "mimetype": "text/x-python",
   "name": "python",
   "nbconvert_exporter": "python",
   "pygments_lexer": "ipython3",
   "version": "3.10.4"
  }
 },
 "nbformat": 4,
 "nbformat_minor": 1
}
