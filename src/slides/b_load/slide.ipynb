{
 "cells": [
  {
   "cell_type": "markdown",
   "metadata": {
    "pycharm": {
     "name": "#%% md\n"
    },
    "slideshow": {
     "slide_type": "slide"
    }
   },
   "source": [
    "LOAD"
   ]
  },
  {
   "cell_type": "code",
   "execution_count": null,
   "metadata": {
    "pycharm": {
     "name": "#%%\n"
    },
    "slideshow": {
     "slide_type": "skip"
    }
   },
   "outputs": [],
   "source": [
    "import collections.abc as collections_abc\n",
    "import dataclasses\n",
    "import itertools\n",
    "import typing\n",
    "\n",
    "import faker\n",
    "import more_itertools\n",
    "import psycopg2\n",
    "\n",
    "import settings\n",
    "import utils.profilers as profiler_utils\n",
    "import utils.psycopg2 as psycopg2_utils"
   ]
  },
  {
   "cell_type": "code",
   "execution_count": null,
   "metadata": {
    "pycharm": {
     "name": "#%%\n"
    }
   },
   "outputs": [],
   "source": [
    "connection = psycopg2.connect(**settings.POSTGRESQL_DATABASE_SETTINGS)\n",
    "\n",
    "def create_tables(connection: psycopg2_utils.Connection) -> None:\n",
    "    with connection.cursor() as cursor:\n",
    "        cursor.execute(\n",
    "            \"\"\"\n",
    "            CREATE TABLE IF NOT EXISTS users(\n",
    "                id serial primary key,\n",
    "                name text NOT NULL,\n",
    "                description text NOT NULL\n",
    "            )\n",
    "            \"\"\"\n",
    "        )\n",
    "    connection.commit()\n",
    "\n",
    "create_tables(connection)"
   ]
  },
  {
   "cell_type": "code",
   "execution_count": null,
   "metadata": {
    "pycharm": {
     "name": "#%%\n"
    }
   },
   "outputs": [],
   "source": [
    "def truncate_tables(connection: psycopg2_utils.Connection) -> None:\n",
    "    with connection.cursor() as cursor:\n",
    "        cursor.execute(\"TRUNCATE users\")\n",
    "    connection.commit()"
   ]
  },
  {
   "cell_type": "code",
   "execution_count": null,
   "metadata": {
    "pycharm": {
     "name": "#%%\n"
    },
    "slideshow": {
     "slide_type": "subslide"
    }
   },
   "outputs": [],
   "source": [
    "@dataclasses.dataclass\n",
    "class User:\n",
    "    name: str\n",
    "    description: str"
   ]
  },
  {
   "cell_type": "code",
   "execution_count": null,
   "metadata": {
    "pycharm": {
     "name": "#%%\n"
    },
    "slideshow": {
     "slide_type": "fragment"
    }
   },
   "outputs": [],
   "source": [
    "SIZE = 10_000\n",
    "\n",
    "def gen_fake_users() -> collections_abc.Iterator[User]:\n",
    "    fake = faker.Faker()\n",
    "    return (User(name=fake.name(), description=fake.text()) for _ in range(SIZE))"
   ]
  },
  {
   "cell_type": "code",
   "execution_count": null,
   "metadata": {
    "pycharm": {
     "name": "#%%\n"
    },
    "slideshow": {
     "slide_type": "fragment"
    }
   },
   "outputs": [],
   "source": [
    "ExecuteType = collections_abc.Callable[[psycopg2_utils.Connection, typing.Iterator[User]], None]\n",
    "\n",
    "def run_execution(func: ExecuteType, connection: psycopg2_utils.Connection) -> None:\n",
    "    users = gen_fake_users()\n",
    "    func(connection, users)\n",
    "    truncate_tables(connection)"
   ]
  },
  {
   "cell_type": "code",
   "execution_count": null,
   "metadata": {
    "pycharm": {
     "name": "#%%\n"
    },
    "slideshow": {
     "slide_type": "slide"
    }
   },
   "outputs": [],
   "source": [
    "@profiler_utils.profile\n",
    "def execute_single(connection: psycopg2_utils.Connection, users: collections_abc.Iterator[User]) -> None:\n",
    "    with connection.cursor() as cursor:\n",
    "        for user in users:\n",
    "            stmt = \"INSERT INTO users (name, description) VALUES (%s, %s)\"\n",
    "            data = (user.name, user.description)\n",
    "            cursor.execute(stmt, data)\n",
    "    connection.commit()"
   ]
  },
  {
   "cell_type": "code",
   "execution_count": null,
   "metadata": {
    "pycharm": {
     "name": "#%%\n"
    },
    "slideshow": {
     "slide_type": "fragment"
    }
   },
   "outputs": [],
   "source": [
    "@profiler_utils.profile\n",
    "def executemany(connection: psycopg2_utils.Connection, users: collections_abc.Iterator[User]) -> None:\n",
    "    with connection.cursor() as cursor:\n",
    "        stmt = \"INSERT INTO users (name, description) VALUES (%s, %s)\"\n",
    "        data = ((user.name, user.description) for user in users)\n",
    "        cursor.executemany(stmt, data)\n",
    "    connection.commit()"
   ]
  },
  {
   "cell_type": "code",
   "execution_count": null,
   "metadata": {
    "pycharm": {
     "name": "#%%\n"
    },
    "slideshow": {
     "slide_type": "fragment"
    }
   },
   "outputs": [],
   "source": [
    "@profiler_utils.profile\n",
    "def execute_single_query(connection: psycopg2_utils.Connection, users: collections_abc.Iterator[User]) -> None:\n",
    "    data = list(itertools.chain.from_iterable((user.name, user.description) for user in users))\n",
    "    stmt = f\"INSERT INTO users (name, description) VALUES {','.join('(%s, %s)' for _ in range(len(data)//2))}\"\n",
    "    with connection.cursor() as cursor:\n",
    "        cursor.execute(stmt, data)\n",
    "    connection.commit()"
   ]
  },
  {
   "cell_type": "code",
   "execution_count": null,
   "metadata": {
    "pycharm": {
     "name": "#%%\n"
    },
    "slideshow": {
     "slide_type": "subslide"
    }
   },
   "outputs": [],
   "source": [
    "run_execution(execute_single, connection)"
   ]
  },
  {
   "cell_type": "code",
   "execution_count": null,
   "metadata": {
    "pycharm": {
     "name": "#%%\n"
    },
    "slideshow": {
     "slide_type": "fragment"
    }
   },
   "outputs": [],
   "source": [
    "run_execution(executemany, connection)"
   ]
  },
  {
   "cell_type": "code",
   "execution_count": null,
   "metadata": {
    "pycharm": {
     "name": "#%%\n"
    },
    "slideshow": {
     "slide_type": "fragment"
    }
   },
   "outputs": [],
   "source": [
    "run_execution(execute_single_query, connection)"
   ]
  },
  {
   "cell_type": "code",
   "execution_count": null,
   "metadata": {
    "pycharm": {
     "name": "#%%\n"
    },
    "slideshow": {
     "slide_type": "slide"
    }
   },
   "outputs": [],
   "source": [
    "CHUNK_SIZE = 500"
   ]
  },
  {
   "cell_type": "code",
   "execution_count": null,
   "metadata": {
    "pycharm": {
     "name": "#%%\n"
    },
    "slideshow": {
     "slide_type": "fragment"
    }
   },
   "outputs": [],
   "source": [
    "@profiler_utils.profile\n",
    "def execute_chunks(connection: psycopg2_utils.Connection, users: collections_abc.Iterator[User]) -> None:\n",
    "    stmt = \"INSERT INTO users (name, description) VALUES (%s, %s)\"\n",
    "    with connection.cursor() as cursor:\n",
    "        for user_chunk in more_itertools.ichunked(users, CHUNK_SIZE):\n",
    "            for user in user_chunk:\n",
    "                data = (user.name, user.description)\n",
    "                cursor.execute(stmt, data)\n",
    "            connection.commit()"
   ]
  },
  {
   "cell_type": "code",
   "execution_count": null,
   "metadata": {
    "pycharm": {
     "name": "#%%\n"
    },
    "slideshow": {
     "slide_type": "fragment"
    }
   },
   "outputs": [],
   "source": [
    "@profiler_utils.profile\n",
    "def executemany_chunks(connection: psycopg2_utils.Connection, users: collections_abc.Iterator[User]) -> None:\n",
    "    stmt = \"INSERT INTO users (name, description) VALUES (%s, %s)\"\n",
    "    with connection.cursor() as cursor:\n",
    "        for user_chunk in more_itertools.ichunked(users, CHUNK_SIZE):\n",
    "            data = [(user.name, user.description) for user in user_chunk]\n",
    "            cursor.executemany(stmt, data)\n",
    "            connection.commit()"
   ]
  },
  {
   "cell_type": "code",
   "execution_count": null,
   "metadata": {
    "pycharm": {
     "name": "#%%\n"
    },
    "slideshow": {
     "slide_type": "fragment"
    }
   },
   "outputs": [],
   "source": [
    "@profiler_utils.profile\n",
    "def execute_single_query_chunks(connection: psycopg2_utils.Connection, users: collections_abc.Iterator[User]) -> None:\n",
    "    with connection.cursor() as cursor:\n",
    "        for user_chunk in more_itertools.ichunked(users, CHUNK_SIZE):\n",
    "            data = list(itertools.chain.from_iterable((user.name, user.description) for user in user_chunk))\n",
    "            stmt = f\"INSERT INTO users (name, description) VALUES {','.join('(%s, %s)' for _ in range(len(data)//2))}\"\n",
    "            cursor.execute(stmt, data)\n",
    "            connection.commit()"
   ]
  },
  {
   "cell_type": "code",
   "execution_count": null,
   "metadata": {
    "pycharm": {
     "name": "#%%\n"
    },
    "slideshow": {
     "slide_type": "subslide"
    }
   },
   "outputs": [],
   "source": [
    "run_execution(execute_single, connection)"
   ]
  },
  {
   "cell_type": "code",
   "execution_count": null,
   "metadata": {
    "pycharm": {
     "name": "#%%\n"
    },
    "slideshow": {
     "slide_type": "fragment"
    }
   },
   "outputs": [],
   "source": [
    "run_execution(execute_chunks, connection)"
   ]
  },
  {
   "cell_type": "code",
   "execution_count": null,
   "metadata": {
    "pycharm": {
     "name": "#%%\n"
    },
    "slideshow": {
     "slide_type": "fragment"
    }
   },
   "outputs": [],
   "source": [
    "run_execution(executemany_chunks, connection)"
   ]
  },
  {
   "cell_type": "code",
   "execution_count": null,
   "metadata": {
    "pycharm": {
     "name": "#%%\n"
    },
    "slideshow": {
     "slide_type": "fragment"
    }
   },
   "outputs": [],
   "source": [
    "run_execution(execute_single_query_chunks, connection)"
   ]
  },
  {
   "cell_type": "code",
   "execution_count": null,
   "metadata": {
    "pycharm": {
     "name": "#%%\n"
    },
    "slideshow": {
     "slide_type": "skip"
    }
   },
   "outputs": [],
   "source": [
    "def drop_tables(connection: psycopg2_utils.Connection) -> None:\n",
    "    with connection.cursor() as cursor:\n",
    "        cursor.execute(\"TRUNCATE users\")\n",
    "    connection.commit()\n",
    "\n",
    "drop_tables(connection)\n"
   ]
  }
 ],
 "metadata": {
  "celltoolbar": "Slideshow",
  "kernelspec": {
   "display_name": "Python 3 (ipykernel)",
   "language": "python",
   "name": "python3"
  },
  "language_info": {
   "codemirror_mode": {
    "name": "ipython",
    "version": 3
   },
   "file_extension": ".py",
   "mimetype": "text/x-python",
   "name": "python",
   "nbconvert_exporter": "python",
   "pygments_lexer": "ipython3",
   "version": "3.10.4"
  }
 },
 "nbformat": 4,
 "nbformat_minor": 1
}