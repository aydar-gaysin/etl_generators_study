{
 "cells": [
  {
   "cell_type": "markdown",
   "metadata": {
    "slideshow": {
     "slide_type": "slide"
    }
   },
   "source": [
    "TRANSFORM"
   ]
  },
  {
   "cell_type": "code",
   "execution_count": null,
   "metadata": {
    "pycharm": {
     "name": "#%%\n"
    },
    "slideshow": {
     "slide_type": "skip"
    }
   },
   "outputs": [],
   "source": [
    "import collections.abc as collections_abc\n",
    "import dataclasses\n",
    "import itertools\n",
    "import random\n",
    "import typing\n",
    "\n",
    "import faker\n",
    "import more_itertools"
   ]
  },
  {
   "cell_type": "code",
   "execution_count": null,
   "metadata": {
    "slideshow": {
     "slide_type": "slide"
    }
   },
   "outputs": [],
   "source": [
    "def print_iterable(items: collections_abc.Iterable[typing.Any]) -> None:\n",
    "    for item in items:\n",
    "        print(item)"
   ]
  },
  {
   "cell_type": "code",
   "execution_count": null,
   "metadata": {
    "slideshow": {
     "slide_type": "fragment"
    }
   },
   "outputs": [],
   "source": [
    "@dataclasses.dataclass\n",
    "class User:\n",
    "    id: int\n",
    "    emails: list[str]"
   ]
  },
  {
   "cell_type": "code",
   "execution_count": null,
   "metadata": {
    "slideshow": {
     "slide_type": "fragment"
    }
   },
   "outputs": [],
   "source": [
    "@dataclasses.dataclass\n",
    "class UserEmail:\n",
    "    user_id: int\n",
    "    email: str"
   ]
  },
  {
   "cell_type": "code",
   "execution_count": null,
   "metadata": {
    "slideshow": {
     "slide_type": "fragment"
    }
   },
   "outputs": [],
   "source": [
    "def gen_fake_users() -> collections_abc.Iterator[User]:\n",
    "    fake = faker.Faker()\n",
    "    for _id in range(0, 5):\n",
    "        yield User(id=_id, emails=[fake.email() for _ in range(random.randrange(3, 5))])"
   ]
  },
  {
   "cell_type": "code",
   "execution_count": null,
   "metadata": {
    "slideshow": {
     "slide_type": "fragment"
    }
   },
   "outputs": [],
   "source": [
    "def gen_fake_user_emails() -> collections_abc.Iterator[UserEmail]:\n",
    "    fake = faker.Faker()\n",
    "    for user_id in range(0, 5):\n",
    "        for _ in range(random.randrange(3, 5)):\n",
    "            yield UserEmail(user_id=user_id, email=fake.email())"
   ]
  },
  {
   "cell_type": "markdown",
   "metadata": {
    "slideshow": {
     "slide_type": "slide"
    }
   },
   "source": [
    "UNPACK"
   ]
  },
  {
   "cell_type": "code",
   "execution_count": null,
   "metadata": {
    "slideshow": {
     "slide_type": "fragment"
    }
   },
   "outputs": [],
   "source": [
    "def transform_user_to_user_email(users: collections_abc.Iterable[User]) -> collections_abc.Iterator[UserEmail]:\n",
    "    for user in users:\n",
    "        for email in user.emails:\n",
    "            yield UserEmail(user_id=user.id, email=email)"
   ]
  },
  {
   "cell_type": "code",
   "execution_count": null,
   "metadata": {
    "scrolled": true,
    "slideshow": {
     "slide_type": "subslide"
    }
   },
   "outputs": [],
   "source": [
    "users = list(gen_fake_users())\n",
    "print_iterable(users)"
   ]
  },
  {
   "cell_type": "code",
   "execution_count": null,
   "metadata": {
    "slideshow": {
     "slide_type": "fragment"
    }
   },
   "outputs": [],
   "source": [
    "user_emails = transform_user_to_user_email(users)\n",
    "print_iterable(user_emails)"
   ]
  },
  {
   "cell_type": "markdown",
   "metadata": {
    "pycharm": {
     "name": "#%% md\n"
    },
    "slideshow": {
     "slide_type": "slide"
    }
   },
   "source": [
    "SQUASH"
   ]
  },
  {
   "cell_type": "code",
   "execution_count": null,
   "metadata": {
    "pycharm": {
     "name": "#%%\n"
    },
    "slideshow": {
     "slide_type": "fragment"
    }
   },
   "outputs": [],
   "source": [
    "def transform_user_email_to_user(user_emails: collections_abc.Iterable[UserEmail]) -> collections_abc.Iterator[User]:\n",
    "    current_user: typing.Optional[User] = None\n",
    "    for user_email in user_emails:\n",
    "        if current_user and current_user.id != user_email.user_id:\n",
    "            yield current_user\n",
    "            current_user = None\n",
    "        if current_user is None:\n",
    "            current_user = User(id=user_email.user_id, emails=[])\n",
    "        current_user.emails.append(user_email.email)\n",
    "    if current_user:\n",
    "        yield current_user"
   ]
  },
  {
   "cell_type": "code",
   "execution_count": null,
   "metadata": {
    "pycharm": {
     "name": "#%%\n"
    },
    "slideshow": {
     "slide_type": "subslide"
    }
   },
   "outputs": [],
   "source": [
    "user_emails = list(gen_fake_user_emails())\n",
    "print_iterable(user_emails)"
   ]
  },
  {
   "cell_type": "code",
   "execution_count": null,
   "metadata": {
    "pycharm": {
     "name": "#%%\n"
    },
    "slideshow": {
     "slide_type": "fragment"
    }
   },
   "outputs": [],
   "source": [
    "users = transform_user_email_to_user(user_emails)\n",
    "print_iterable(users)"
   ]
  },
  {
   "cell_type": "markdown",
   "metadata": {
    "pycharm": {
     "name": "#%% md\n"
    },
    "slideshow": {
     "slide_type": "slide"
    }
   },
   "source": [
    "CHUNK"
   ]
  },
  {
   "cell_type": "code",
   "execution_count": null,
   "metadata": {
    "pycharm": {
     "name": "#%%\n"
    },
    "slideshow": {
     "slide_type": "fragment"
    }
   },
   "outputs": [],
   "source": [
    "chunked_items = more_itertools.chunked(iterable=range(95), n=20)\n",
    "print_iterable(chunked_items)"
   ]
  },
  {
   "cell_type": "code",
   "execution_count": null,
   "metadata": {
    "pycharm": {
     "name": "#%%\n"
    },
    "slideshow": {
     "slide_type": "fragment"
    }
   },
   "outputs": [],
   "source": [
    "chunked_items = more_itertools.ichunked(iterable=range(95), n=20)\n",
    "print_iterable(chunked_items)"
   ]
  },
  {
   "cell_type": "markdown",
   "metadata": {
    "pycharm": {
     "name": "#%% md\n"
    },
    "slideshow": {
     "slide_type": "slide"
    }
   },
   "source": [
    "CHAIN"
   ]
  },
  {
   "cell_type": "code",
   "execution_count": null,
   "metadata": {
    "pycharm": {
     "name": "#%%\n"
    },
    "slideshow": {
     "slide_type": "fragment"
    }
   },
   "outputs": [],
   "source": [
    "chunked = more_itertools.chunked(iterable=range(7), n=3)\n",
    "print_iterable(chunked)"
   ]
  },
  {
   "cell_type": "code",
   "execution_count": null,
   "metadata": {
    "pycharm": {
     "name": "#%%\n"
    },
    "slideshow": {
     "slide_type": "fragment"
    }
   },
   "outputs": [],
   "source": [
    "chunked = more_itertools.chunked(iterable=range(7), n=3)\n",
    "items = itertools.chain(*chunked)\n",
    "print_iterable(items)"
   ]
  },
  {
   "cell_type": "code",
   "execution_count": null,
   "metadata": {
    "pycharm": {
     "name": "#%%\n"
    },
    "slideshow": {
     "slide_type": "subslide"
    }
   },
   "outputs": [],
   "source": [
    "chunked = more_itertools.ichunked(iterable=range(7), n=3)\n",
    "items = itertools.chain(*chunked)\n",
    "print_iterable(items)"
   ]
  },
  {
   "cell_type": "code",
   "execution_count": null,
   "metadata": {
    "pycharm": {
     "name": "#%%\n"
    },
    "slideshow": {
     "slide_type": "fragment"
    }
   },
   "outputs": [],
   "source": [
    "chunked = more_itertools.ichunked(iterable=range(7), n=3)\n",
    "items = itertools.chain.from_iterable(chunked)\n",
    "print_iterable(items)"
   ]
  },
  {
   "cell_type": "markdown",
   "metadata": {
    "pycharm": {
     "name": "#%% md\n"
    },
    "slideshow": {
     "slide_type": "slide"
    }
   },
   "source": [
    "FILTER"
   ]
  },
  {
   "cell_type": "code",
   "execution_count": null,
   "metadata": {
    "pycharm": {
     "name": "#%%\n"
    },
    "slideshow": {
     "slide_type": "fragment"
    }
   },
   "outputs": [],
   "source": [
    "def filter_even_id(users: collections_abc.Iterable[User]) -> collections_abc.Iterator[User]:\n",
    "    for user in users:\n",
    "        if user.id % 2 == 0:\n",
    "            continue\n",
    "        yield user"
   ]
  },
  {
   "cell_type": "code",
   "execution_count": null,
   "metadata": {
    "pycharm": {
     "name": "#%%\n"
    },
    "slideshow": {
     "slide_type": "subslide"
    }
   },
   "outputs": [],
   "source": [
    "users = list(gen_fake_users())\n",
    "print_iterable(users)"
   ]
  },
  {
   "cell_type": "code",
   "execution_count": null,
   "metadata": {
    "pycharm": {
     "name": "#%%\n"
    },
    "slideshow": {
     "slide_type": "fragment"
    }
   },
   "outputs": [],
   "source": [
    "filtered_users = filter_even_id(users)\n",
    "print_iterable(filtered_users)"
   ]
  },
  {
   "cell_type": "code",
   "execution_count": null,
   "metadata": {
    "pycharm": {
     "name": "#%%\n"
    },
    "slideshow": {
     "slide_type": "slide"
    }
   },
   "outputs": [],
   "source": [
    "T = typing.TypeVar(\"T\")\n",
    "\n",
    "\n",
    "def safe_next(iterator: collections_abc.Iterator[T]) -> typing.Optional[T]:\n",
    "    try:\n",
    "        return next(iterator)\n",
    "    except StopIteration:\n",
    "        return None"
   ]
  },
  {
   "cell_type": "markdown",
   "metadata": {
    "pycharm": {
     "name": "#%% md\n"
    },
    "slideshow": {
     "slide_type": "slide"
    }
   },
   "source": [
    "MERGE ITERATORS"
   ]
  },
  {
   "cell_type": "code",
   "execution_count": null,
   "metadata": {
    "pycharm": {
     "name": "#%%\n"
    },
    "slideshow": {
     "slide_type": "fragment"
    }
   },
   "outputs": [],
   "source": [
    "def merge_emails(\n",
    "    email_iter1: collections_abc.Iterator[UserEmail],\n",
    "    email_iter2: collections_abc.Iterator[UserEmail],\n",
    ") -> collections_abc.Iterator[UserEmail]:\n",
    "    email1: typing.Optional[UserEmail] = None\n",
    "    email2: typing.Optional[UserEmail] = None\n",
    "\n",
    "    while True:\n",
    "        email1 = email1 or safe_next(email_iter1)\n",
    "        if email1 is None:\n",
    "            yield from email_iter2\n",
    "            return\n",
    "        email2 = email2 or safe_next(email_iter2)\n",
    "        if email2 is None:\n",
    "            yield from email_iter1\n",
    "            return\n",
    "\n",
    "        if email2.user_id > email1.user_id:\n",
    "            yield email1\n",
    "            email1 = None\n",
    "        else:\n",
    "            yield email2\n",
    "            email2 = None"
   ]
  },
  {
   "cell_type": "code",
   "execution_count": null,
   "metadata": {
    "pycharm": {
     "name": "#%%\n"
    },
    "slideshow": {
     "slide_type": "subslide"
    }
   },
   "outputs": [],
   "source": [
    "emails1 = gen_fake_user_emails()\n",
    "emails2 = gen_fake_user_emails()"
   ]
  },
  {
   "cell_type": "code",
   "execution_count": null,
   "metadata": {
    "pycharm": {
     "name": "#%%\n"
    },
    "slideshow": {
     "slide_type": "fragment"
    }
   },
   "outputs": [],
   "source": [
    "emails = merge_emails(emails1, emails2)\n",
    "print_iterable(emails)"
   ]
  },
  {
   "cell_type": "markdown",
   "metadata": {
    "pycharm": {
     "name": "#%% md\n"
    },
    "slideshow": {
     "slide_type": "slide"
    }
   },
   "source": [
    "MERGE ITEMS IN ITERATORS"
   ]
  },
  {
   "cell_type": "code",
   "execution_count": null,
   "metadata": {
    "pycharm": {
     "name": "#%%\n"
    },
    "slideshow": {
     "slide_type": "fragment"
    }
   },
   "outputs": [],
   "source": [
    "def merge_users(\n",
    "    user_iter1: collections_abc.Iterator[User],\n",
    "    user_iter2: collections_abc.Iterator[User],\n",
    ") -> collections_abc.Iterator[User]:\n",
    "    user1: typing.Optional[User] = None\n",
    "    user2: typing.Optional[User] = None\n",
    "\n",
    "    while True:\n",
    "        user1 = user1 or safe_next(user_iter1)\n",
    "        if user1 is None:\n",
    "            yield from user_iter2\n",
    "            return\n",
    "        user2 = user2 or safe_next(user_iter2)\n",
    "        if user2 is None:\n",
    "            yield from user_iter1\n",
    "            return\n",
    "\n",
    "        if user1.id > user2.id:\n",
    "            yield user2\n",
    "            user2 = None\n",
    "        elif user1.id < user2.id:\n",
    "            yield user1\n",
    "            user1 = None\n",
    "        else:\n",
    "            yield User(id=user1.id, emails=user1.emails + user2.emails)\n",
    "            user1 = None\n",
    "            user2 = None"
   ]
  },
  {
   "cell_type": "code",
   "execution_count": null,
   "metadata": {
    "pycharm": {
     "name": "#%%\n"
    },
    "slideshow": {
     "slide_type": "subslide"
    }
   },
   "outputs": [],
   "source": [
    "users1 = gen_fake_users()\n",
    "users2 = gen_fake_users()"
   ]
  },
  {
   "cell_type": "code",
   "execution_count": null,
   "metadata": {
    "pycharm": {
     "name": "#%%\n"
    },
    "slideshow": {
     "slide_type": "fragment"
    }
   },
   "outputs": [],
   "source": [
    "emails = merge_users(users1, users2)\n",
    "print_iterable(emails)"
   ]
  },
  {
   "cell_type": "code",
   "execution_count": null,
   "metadata": {
    "slideshow": {
     "slide_type": "slide"
    }
   },
   "outputs": [],
   "source": [
    "iter_in = range(0, 200)\n",
    "\n",
    "iter_even_out = ...\n",
    "iter_odd_out = ..."
   ]
  },
  {
   "cell_type": "markdown",
   "metadata": {
    "pycharm": {
     "name": "#%% md\n"
    },
    "slideshow": {
     "slide_type": "slide"
    }
   },
   "source": [
    "¿QUESTIONS?\n"
   ]
  }
 ],
 "metadata": {
  "celltoolbar": "Slideshow",
  "kernelspec": {
   "display_name": "Python 3 (ipykernel)",
   "language": "python",
   "name": "python3"
  },
  "language_info": {
   "codemirror_mode": {
    "name": "ipython",
    "version": 3
   },
   "file_extension": ".py",
   "mimetype": "text/x-python",
   "name": "python",
   "nbconvert_exporter": "python",
   "pygments_lexer": "ipython3",
   "version": "3.10.4"
  }
 },
 "nbformat": 4,
 "nbformat_minor": 1
}
